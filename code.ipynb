{
 "cells": [
  {
   "cell_type": "code",
   "execution_count": 396,
   "metadata": {},
   "outputs": [],
   "source": [
    "import pandas as pd\n",
    "import numpy as np\n",
    "from bs4 import BeautifulSoup as bs\n",
    "import urllib.request, urllib.error, urllib.parse\n",
    "from selenium import webdriver\n",
    "from selenium.webdriver.chrome.options import Options\n",
    "import time\n",
    "import statsmodels.formula.api as sm\n",
    "\n"
   ]
  },
  {
   "cell_type": "code",
   "execution_count": 134,
   "metadata": {},
   "outputs": [],
   "source": [
    "#import the listing dataset for Seattle Airbnb\n",
    "\n",
    "df=pd.read_csv(r\"C:\\Users\\abhis\\Downloads\\seattle\\listings.csv\")"
   ]
  },
  {
   "cell_type": "code",
   "execution_count": 280,
   "metadata": {},
   "outputs": [],
   "source": [
    "#clean the dataset and remove unwanted columns\n",
    "\n",
    "cleaned_df=df[['id','listing_url','name','host_response_time','host_response_rate',\n",
    "               'host_is_superhost','host_identity_verified','bed_type','amenities','price','security_deposit',\n",
    "               'cleaning_fee','cancellation_policy','instant_bookable','extra_people','review_scores_accuracy',\n",
    "               'review_scores_cleanliness','review_scores_checkin', 'review_scores_communication',\n",
    "               'review_scores_location', 'review_scores_value','is_location_exact', 'host_acceptance_rate']]"
   ]
  },
  {
   "cell_type": "code",
   "execution_count": 21,
   "metadata": {},
   "outputs": [],
   "source": [
    "#import the reviews dataset for all Airbnb reviews\n",
    "\n",
    "reviews_df=pd.read_csv(r\"C:\\Users\\abhis\\Downloads\\seattle\\reviews.csv\")\n"
   ]
  },
  {
   "cell_type": "code",
   "execution_count": 22,
   "metadata": {
    "collapsed": true
   },
   "outputs": [
    {
     "name": "stderr",
     "output_type": "stream",
     "text": [
      "C:\\Users\\abhis\\Anaconda3\\lib\\site-packages\\ipykernel_launcher.py:2: SettingWithCopyWarning: \n",
      "A value is trying to be set on a copy of a slice from a DataFrame\n",
      "\n",
      "See the caveats in the documentation: http://pandas.pydata.org/pandas-docs/stable/user_guide/indexing.html#returning-a-view-versus-a-copy\n",
      "  \n"
     ]
    }
   ],
   "source": [
    "#convering the reviews to string\n",
    "\n",
    "for i in range (0, len(reviews_df)):\n",
    "    reviews_df['comments'][i]=str(reviews_df['comments'][i])"
   ]
  },
  {
   "cell_type": "code",
   "execution_count": 23,
   "metadata": {},
   "outputs": [],
   "source": [
    "#taking reviews which are greater than 3 charaters\n",
    "\n",
    "len_com=[]\n",
    "for i in range (0, len(reviews_df)):\n",
    "    len_com.append(len(reviews_df['comments'][i]))\n",
    "    \n",
    "reviews_df['len_com']=len_com"
   ]
  },
  {
   "cell_type": "code",
   "execution_count": 25,
   "metadata": {
    "collapsed": true
   },
   "outputs": [
    {
     "data": {
      "text/plain": [
       "<bound method DataFrame.reset_index of        listing_id        id        date  reviewer_id reviewer_name  \\\n",
       "0         7202016  38917982  2015-07-19     28943674        Bianca   \n",
       "1         7202016  39087409  2015-07-20     32440555         Frank   \n",
       "2         7202016  39820030  2015-07-26     37722850           Ian   \n",
       "3         7202016  40813543  2015-08-02     33671805        George   \n",
       "4         7202016  41986501  2015-08-10     34959538          Ming   \n",
       "...           ...       ...         ...          ...           ...   \n",
       "84844     3624990  50436321  2015-10-12     37419458          Ryan   \n",
       "84845     3624990  51024875  2015-10-17      6933252         Linda   \n",
       "84846     3624990  51511988  2015-10-20     19543701         Jaime   \n",
       "84847     3624990  52814482  2015-11-02     24445024        Jørgen   \n",
       "84848     9727246  56429621  2015-12-13     30860360     Stephanie   \n",
       "\n",
       "                                                comments  len_com  \n",
       "0      Cute and cozy place. Perfect location to every...       53  \n",
       "1      Kelly has a great room in a very central locat...      390  \n",
       "2      Very spacious apartment, and in a great neighb...      386  \n",
       "3      Close to Seattle Center and all it has to offe...      278  \n",
       "4      Kelly was a great host and very accommodating ...      334  \n",
       "...                                                  ...      ...  \n",
       "84844  The description and pictures of the apartment ...      698  \n",
       "84845  We had an excellent stay. It was clean and com...      196  \n",
       "84846  Gran ubicación, cerca de todo lo atractivo del...      201  \n",
       "84847  Very good apartement, clean and well sized. Si...      350  \n",
       "84848  Breanne was a great host. Check in was easy, s...      325  \n",
       "\n",
       "[84808 rows x 7 columns]>"
      ]
     },
     "execution_count": 25,
     "metadata": {},
     "output_type": "execute_result"
    }
   ],
   "source": [
    "new_df=reviews_df[reviews_df['len_com']>3]"
   ]
  },
  {
   "cell_type": "code",
   "execution_count": 27,
   "metadata": {},
   "outputs": [],
   "source": [
    "#reindexing the dataframe to avoid missing id\n",
    "new_df.index = range(len(new_df))"
   ]
  },
  {
   "cell_type": "code",
   "execution_count": 29,
   "metadata": {
    "collapsed": true
   },
   "outputs": [
    {
     "name": "stderr",
     "output_type": "stream",
     "text": [
      "C:\\Users\\abhis\\Anaconda3\\lib\\site-packages\\ipykernel_launcher.py:6: SettingWithCopyWarning: \n",
      "A value is trying to be set on a copy of a slice from a DataFrame.\n",
      "Try using .loc[row_indexer,col_indexer] = value instead\n",
      "\n",
      "See the caveats in the documentation: http://pandas.pydata.org/pandas-docs/stable/user_guide/indexing.html#returning-a-view-versus-a-copy\n",
      "  \n"
     ]
    }
   ],
   "source": [
    "#detecting the languages for all the reviews to remove any reviews with unsupported languages\n",
    "\n",
    "from langdetect import detect\n",
    "language_comment=[]\n",
    "for i in range (0, len(new_df)):\n",
    "    language_comment.append(detect(new_df['comments'][i]))\n",
    "    \n",
    "new_df['lang']=language_comment"
   ]
  },
  {
   "cell_type": "code",
   "execution_count": 31,
   "metadata": {},
   "outputs": [],
   "source": [
    "\n",
    "lang_df=new_df[new_df['lang']=='en']\n",
    "lang_df.index = range(len(lang_df))"
   ]
  },
  {
   "cell_type": "code",
   "execution_count": 221,
   "metadata": {},
   "outputs": [],
   "source": [
    "#generating sentiment score for all the reviews using Google NLP package\n",
    "\n",
    "sentiment_score=[]\n",
    "\n",
    "import os \n",
    "import io \n",
    "from google.cloud import language \n",
    "from google.cloud.language import enums \n",
    "from google.cloud.language import types \n",
    "  \n",
    "os.environ['GOOGLE_APPLICATION_CREDENTIALS'] = os.path.join(r'C:\\Users\\\\abhis\\Downloads\\\\Big Data Technologies-0b73b3f0cc1d.json') \n",
    "  \n",
    "# Instantiates a client\n",
    "client = language.LanguageServiceClient()\n",
    "\n",
    "count=0\n",
    "# The text to analyze\n",
    "for i in range(0, len(lang_df)):\n",
    "    if count < 500:\n",
    "        text = lang_df['comments'][i]\n",
    "        document = types.Document(\n",
    "            content=text,\n",
    "            language='en',\n",
    "            type=enums.Document.Type.PLAIN_TEXT)\n",
    "        \n",
    "        # Detects the sentiment of the text\n",
    "        sentiment = client.analyze_sentiment(document=document).document_sentiment\n",
    "        sentiment_score.append(sentiment.score)\n",
    "        count+=1\n",
    "    else:\n",
    "        time.sleep(60)\n",
    "        count=0\n",
    "        text = lang_df['comments'][i]\n",
    "        document = types.Document(\n",
    "            content=text,\n",
    "            language='en',\n",
    "            type=enums.Document.Type.PLAIN_TEXT)\n",
    "\n",
    "        # Detects the sentiment of the text\n",
    "        sentiment = client.analyze_sentiment(document=document).document_sentiment\n",
    "        sentiment_score.append(sentiment.score)\n",
    "        count+=1"
   ]
  },
  {
   "cell_type": "code",
   "execution_count": 226,
   "metadata": {
    "collapsed": true
   },
   "outputs": [
    {
     "name": "stderr",
     "output_type": "stream",
     "text": [
      "C:\\Users\\abhis\\Anaconda3\\lib\\site-packages\\ipykernel_launcher.py:1: SettingWithCopyWarning: \n",
      "A value is trying to be set on a copy of a slice from a DataFrame.\n",
      "Try using .loc[row_indexer,col_indexer] = value instead\n",
      "\n",
      "See the caveats in the documentation: http://pandas.pydata.org/pandas-docs/stable/user_guide/indexing.html#returning-a-view-versus-a-copy\n",
      "  \"\"\"Entry point for launching an IPython kernel.\n"
     ]
    }
   ],
   "source": [
    "#adding sentiment scores to the reviews dataframe\n",
    "\n",
    "lang_df['sentiment_score']=sentiment_score\n",
    "\n",
    "lang_df=lang_df[['listing_id','sentiment_score']]\n",
    "lang_df=lang_df.groupby(['listing_id']).mean()"
   ]
  },
  {
   "cell_type": "code",
   "execution_count": 299,
   "metadata": {},
   "outputs": [],
   "source": [
    "#joining the 2 dataframe. Linking all airbnb with their sentiment scores\n",
    "\n",
    "cleaned_df=cleaned_df.merge(lang_df, left_on=['id'], right_on=['listing_id'], how='left')"
   ]
  },
  {
   "cell_type": "code",
   "execution_count": 282,
   "metadata": {},
   "outputs": [],
   "source": [
    "#filling NaN values\n",
    "cleaned_df=cleaned_df.fillna('00')\n"
   ]
  },
  {
   "cell_type": "code",
   "execution_count": null,
   "metadata": {},
   "outputs": [],
   "source": []
  },
  {
   "cell_type": "code",
   "execution_count": 283,
   "metadata": {},
   "outputs": [],
   "source": [
    "#removing , from price\n",
    "price_list=[]\n",
    "for i in range (0, len(cleaned_df)):\n",
    "    price_list.append(cleaned_df['price'][i].replace(',',''))\n",
    "    \n",
    "cleaned_df['price']=price_list"
   ]
  },
  {
   "cell_type": "code",
   "execution_count": 284,
   "metadata": {
    "collapsed": true
   },
   "outputs": [
    {
     "name": "stderr",
     "output_type": "stream",
     "text": [
      "C:\\Users\\abhis\\Anaconda3\\lib\\site-packages\\ipykernel_launcher.py:2: SettingWithCopyWarning: \n",
      "A value is trying to be set on a copy of a slice from a DataFrame\n",
      "\n",
      "See the caveats in the documentation: http://pandas.pydata.org/pandas-docs/stable/user_guide/indexing.html#returning-a-view-versus-a-copy\n",
      "  \n"
     ]
    }
   ],
   "source": [
    "#removing $ sign from price\n",
    "\n",
    "for i in range (0, len(cleaned_df)):\n",
    "    cleaned_df['price'][i]=float(cleaned_df['price'][i][1:])"
   ]
  },
  {
   "cell_type": "code",
   "execution_count": 285,
   "metadata": {},
   "outputs": [],
   "source": [
    "#removing , from security deposit\n",
    "sec_list=[]\n",
    "for i in range (0, len(cleaned_df)):\n",
    "    sec_list.append(cleaned_df['security_deposit'][i].replace(',',''))\n",
    "\n",
    "cleaned_df['security_deposit']=sec_list\n"
   ]
  },
  {
   "cell_type": "code",
   "execution_count": 286,
   "metadata": {
    "collapsed": true
   },
   "outputs": [
    {
     "name": "stderr",
     "output_type": "stream",
     "text": [
      "C:\\Users\\abhis\\Anaconda3\\lib\\site-packages\\ipykernel_launcher.py:2: SettingWithCopyWarning: \n",
      "A value is trying to be set on a copy of a slice from a DataFrame\n",
      "\n",
      "See the caveats in the documentation: http://pandas.pydata.org/pandas-docs/stable/user_guide/indexing.html#returning-a-view-versus-a-copy\n",
      "  \n"
     ]
    }
   ],
   "source": [
    "#removing $ sign from security deposit\n",
    "\n",
    "for i in range (0, len(cleaned_df)):\n",
    "    cleaned_df['security_deposit'][i]=float(cleaned_df['security_deposit'][i][1:])"
   ]
  },
  {
   "cell_type": "code",
   "execution_count": 287,
   "metadata": {},
   "outputs": [],
   "source": [
    "#removing , from cleaning fee\n",
    "clean_list=[]\n",
    "for i in range (0, len(cleaned_df)):\n",
    "    clean_list.append(cleaned_df['cleaning_fee'][i].replace(',',''))\n",
    "    \n",
    "cleaned_df['cleaning_fee']=clean_list\n"
   ]
  },
  {
   "cell_type": "code",
   "execution_count": 288,
   "metadata": {
    "collapsed": true
   },
   "outputs": [
    {
     "name": "stderr",
     "output_type": "stream",
     "text": [
      "C:\\Users\\abhis\\Anaconda3\\lib\\site-packages\\ipykernel_launcher.py:2: SettingWithCopyWarning: \n",
      "A value is trying to be set on a copy of a slice from a DataFrame\n",
      "\n",
      "See the caveats in the documentation: http://pandas.pydata.org/pandas-docs/stable/user_guide/indexing.html#returning-a-view-versus-a-copy\n",
      "  \n"
     ]
    }
   ],
   "source": [
    "#removing $ sign from cleaning_fee\n",
    "\n",
    "\n",
    "for i in range (0, len(cleaned_df)):\n",
    "    cleaned_df['cleaning_fee'][i]=float(cleaned_df['cleaning_fee'][i][1:])"
   ]
  },
  {
   "cell_type": "code",
   "execution_count": 289,
   "metadata": {},
   "outputs": [],
   "source": [
    "#removing , from extra people\n",
    "extra_list=[]\n",
    "for i in range (0, len(cleaned_df)):\n",
    "    extra_list.append(cleaned_df['extra_people'][i].replace(',',''))\n",
    "\n",
    "cleaned_df['extra_people']=extra_list\n"
   ]
  },
  {
   "cell_type": "code",
   "execution_count": 290,
   "metadata": {
    "collapsed": true
   },
   "outputs": [
    {
     "name": "stderr",
     "output_type": "stream",
     "text": [
      "C:\\Users\\abhis\\Anaconda3\\lib\\site-packages\\ipykernel_launcher.py:2: SettingWithCopyWarning: \n",
      "A value is trying to be set on a copy of a slice from a DataFrame\n",
      "\n",
      "See the caveats in the documentation: http://pandas.pydata.org/pandas-docs/stable/user_guide/indexing.html#returning-a-view-versus-a-copy\n",
      "  \n"
     ]
    }
   ],
   "source": [
    "#removing $ sign from extra people\n",
    "\n",
    "for i in range (0, len(cleaned_df)):\n",
    "    cleaned_df['extra_people'][i]=float(cleaned_df['extra_people'][i][1:])"
   ]
  },
  {
   "cell_type": "code",
   "execution_count": 295,
   "metadata": {},
   "outputs": [],
   "source": [
    "#converting variables from string to float. These were continuous variable.\n",
    "\n",
    "cleaned_df['price'] = cleaned_df['price'].apply(lambda r: float(r))\n",
    "cleaned_df['security_deposit'] = cleaned_df['security_deposit'].apply(lambda r: float(r))\n",
    "cleaned_df['cleaning_fee'] = cleaned_df['cleaning_fee'].apply(lambda r: float(r))\n",
    "cleaned_df['extra_people'] = cleaned_df['extra_people'].apply(lambda r: float(r))\n",
    "cleaned_df['review_scores_accuracy'] = cleaned_df['review_scores_accuracy'].apply(lambda r: float(r))\n",
    "cleaned_df['review_scores_checkin'] = cleaned_df['review_scores_checkin'].apply(lambda r: float(r))\n",
    "cleaned_df['review_scores_cleanliness'] = cleaned_df['review_scores_cleanliness'].apply(lambda r: float(r))\n",
    "cleaned_df['review_scores_communication'] = cleaned_df['review_scores_communication'].apply(lambda r: float(r))\n",
    "cleaned_df['review_scores_location'] = cleaned_df['review_scores_location'].apply(lambda r: float(r))\n",
    "cleaned_df['review_scores_value'] = cleaned_df['review_scores_value'].apply(lambda r: float(r))\n",
    "cleaned_df['host_acceptance_rate'] = cleaned_df['host_acceptance_rate'].apply(lambda r: float(r))\n",
    "cleaned_df['host_response_rate'] = cleaned_df['host_response_rate'].apply(lambda r: float(r))"
   ]
  },
  {
   "cell_type": "code",
   "execution_count": 306,
   "metadata": {},
   "outputs": [],
   "source": [
    "#exporting the final used dataframe to a csv. Can be used directly to make the equation\n",
    "cleaned_df.to_csv(\"D:\\Purdue Courses\\Fall Mod 2\\cleaned_df.csv\")"
   ]
  }
 ],
 "metadata": {
  "kernelspec": {
   "display_name": "Python 3",
   "language": "python",
   "name": "python3"
  },
  "language_info": {
   "codemirror_mode": {
    "name": "ipython",
    "version": 3
   },
   "file_extension": ".py",
   "mimetype": "text/x-python",
   "name": "python",
   "nbconvert_exporter": "python",
   "pygments_lexer": "ipython3",
   "version": "3.7.4"
  }
 },
 "nbformat": 4,
 "nbformat_minor": 2
}
